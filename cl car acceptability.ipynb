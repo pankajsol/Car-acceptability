{
 "cells": [
  {
   "cell_type": "code",
   "execution_count": 1,
   "id": "065759cc",
   "metadata": {},
   "outputs": [
    {
     "name": "stdout",
     "output_type": "stream",
     "text": [
      "  buying  maint doors persons lug_boot safety  class\n",
      "0  vhigh  vhigh     2       2    small    low  unacc\n",
      "1  vhigh  vhigh     2       2    small    med  unacc\n",
      "2  vhigh  vhigh     2       2    small   high  unacc\n",
      "3  vhigh  vhigh     2       2      med    low  unacc\n",
      "4  vhigh  vhigh     2       2      med    med  unacc\n",
      "(1728, 7)\n",
      "<bound method DataFrame.info of      buying  maint  doors persons lug_boot safety  class\n",
      "0     vhigh  vhigh      2       2    small    low  unacc\n",
      "1     vhigh  vhigh      2       2    small    med  unacc\n",
      "2     vhigh  vhigh      2       2    small   high  unacc\n",
      "3     vhigh  vhigh      2       2      med    low  unacc\n",
      "4     vhigh  vhigh      2       2      med    med  unacc\n",
      "...     ...    ...    ...     ...      ...    ...    ...\n",
      "1723    low    low  5more    more      med    med   good\n",
      "1724    low    low  5more    more      med   high  vgood\n",
      "1725    low    low  5more    more      big    low  unacc\n",
      "1726    low    low  5more    more      big    med   good\n",
      "1727    low    low  5more    more      big   high  vgood\n",
      "\n",
      "[1728 rows x 7 columns]>\n",
      "buying      0\n",
      "maint       0\n",
      "doors       0\n",
      "persons     0\n",
      "lug_boot    0\n",
      "safety      0\n",
      "class       0\n",
      "dtype: int64\n",
      "Index(['buying', 'maint', 'doors', 'persons', 'lug_boot', 'safety', 'class'], dtype='object')\n",
      "buying      object\n",
      "maint       object\n",
      "doors       object\n",
      "persons     object\n",
      "lug_boot    object\n",
      "safety      object\n",
      "class       object\n",
      "dtype: object\n",
      "unacc    1210\n",
      "acc       384\n",
      "good       69\n",
      "vgood      65\n",
      "Name: class, dtype: int64\n"
     ]
    }
   ],
   "source": [
    "#import libraries\n",
    "import pandas as pd\n",
    "\n",
    "#read data\n",
    "data=pd.read_csv('https://confrecordings.ams3.digitaloceanspaces.com/Car_evaluation_627.csv',header=None)\n",
    "\n",
    "#Rename column names:-\n",
    "col_names = ['buying', 'maint', 'doors', 'persons', 'lug_boot', 'safety', 'class']\n",
    "data.columns = col_names\n",
    "\n",
    "#Perform EDA\n",
    "print(data.head())\n",
    "print(data.shape)\n",
    "print(data.info)\n",
    "print(data.isnull().sum())\n",
    "print(data.columns)\n",
    "print(data.dtypes)\n",
    "\n",
    "#Explore class variables\n",
    "print(data['class'].value_counts())"
   ]
  },
  {
   "cell_type": "code",
   "execution_count": 2,
   "id": "1a2bb6b4",
   "metadata": {},
   "outputs": [
    {
     "name": "stdout",
     "output_type": "stream",
     "text": [
      "(1157, 6)\n",
      "(571, 6)\n",
      "(1157, 1)\n",
      "(571, 1)\n"
     ]
    }
   ],
   "source": [
    "#Feature Selection\n",
    "X = data.drop(['class'], axis=1)\n",
    "y = data['class']\n",
    "\n",
    "#import libary\n",
    "import category_encoders as ce\n",
    "\n",
    "# encode categorical variables with ordinal encoding\n",
    "encoder = ce.OrdinalEncoder(cols=['buying', 'maint', 'doors', 'persons', 'lug_boot', 'safety'])\n",
    "X = encoder.fit_transform(X)\n",
    "encoder = ce.OrdinalEncoder(cols=['class'])\n",
    "y = encoder.fit_transform(y)\n",
    "\n",
    "#import library\n",
    "from sklearn.model_selection import train_test_split\n",
    "\n",
    "#split nto training and testing data and print their shape\n",
    "X_train, X_test, y_train, y_test = train_test_split(X, y, test_size = 0.33, random_state = 42)\n",
    "print(X_train.shape)\n",
    "print(X_test.shape)\n",
    "print(y_train.shape)\n",
    "print(y_test.shape)"
   ]
  },
  {
   "cell_type": "code",
   "execution_count": 3,
   "id": "2b30e5ac",
   "metadata": {},
   "outputs": [
    {
     "name": "stderr",
     "output_type": "stream",
     "text": [
      "<ipython-input-3-ae0d0e474fcb>:9: DataConversionWarning: A column-vector y was passed when a 1d array was expected. Please change the shape of y to (n_samples,), for example using ravel().\n",
      "  rfc1.fit(X_train, y_train)\n"
     ]
    },
    {
     "name": "stdout",
     "output_type": "stream",
     "text": [
      "[1 4 1 2 1 2 1 1 1 1 2 2 1 1 1 1 1 1 1 2 1 2 2 1 2 1 1 1 1 1 2 1 1 1 2 4 4\n",
      " 1 1 1 1 1 2 2 2 2 1 1 1 1 1 1 2 1 1 1 1 1 1 4 1 2 1 1 2 3 1 2 2 1 1 1 1 1\n",
      " 4 3 1 1 1 1 3 1 1 2 3 2 1 2 3 2 1 4 1 1 1 4 1 1 1 2 1 1 1 1 4 4 2 1 1 2 1\n",
      " 1 1 1 1 2 4 1 1 1 1 3 1 2 2 1 4 1 1 1 1 1 4 1 1 2 1 3 1 1 1 2 2 2 1 2 1 1\n",
      " 1 1 2 3 1 1 1 1 1 1 1 1 1 2 1 1 1 1 2 1 2 3 2 1 2 1 1 2 1 1 1 1 2 1 1 1 4\n",
      " 2 1 1 2 1 1 1 2 1 1 1 1 2 1 1 1 1 1 4 1 1 1 4 1 1 1 1 2 1 1 2 1 1 1 4 3 1\n",
      " 1 1 1 1 1 1 2 1 1 1 2 1 2 1 1 1 1 1 1 1 1 1 1 1 1 1 1 1 1 1 1 1 1 1 1 1 2\n",
      " 1 2 1 1 1 1 1 2 3 1 1 1 2 1 1 3 1 1 4 2 1 2 1 2 2 1 1 2 4 3 2 2 1 1 1 1 3\n",
      " 2 2 1 1 1 1 3 1 1 1 1 2 1 1 3 2 2 1 1 2 2 2 1 2 2 1 1 1 1 1 1 2 1 1 1 1 2\n",
      " 1 1 1 1 2 1 1 1 1 1 1 1 1 1 1 1 1 1 2 1 1 2 1 1 1 3 1 1 1 1 2 1 2 1 1 1 2\n",
      " 1 2 4 3 1 1 1 2 1 1 1 1 2 1 1 1 1 2 1 1 2 1 2 1 1 1 1 1 4 1 1 1 1 1 1 2 1\n",
      " 1 3 1 2 1 1 2 2 1 3 1 2 1 4 1 2 2 1 1 1 1 2 1 4 1 1 1 1 2 2 2 1 2 1 2 1 1\n",
      " 2 4 1 2 2 2 1 3 1 4 1 1 1 1 1 1 1 1 1 1 1 1 1 1 2 4 1 1 1 1 1 2 1 1 3 1 1\n",
      " 1 1 2 1 2 1 1 1 1 1 1 1 1 2 1 1 1 1 1 1 1 1 3 1 1 2 1 1 2 1 1 1 1 1 1 2 1\n",
      " 4 3 1 4 1 1 1 1 1 1 1 2 1 2 1 1 2 1 2 1 1 1 1 1 1 1 1 1 1 1 2 1 1 2 1 2 2\n",
      " 1 1 1 1 4 1 2 1 1 1 1 1 2 1 1 1]\n",
      "Model accuracy score with 10 decision-trees : 0.9667\n"
     ]
    },
    {
     "name": "stderr",
     "output_type": "stream",
     "text": [
      "<ipython-input-3-ae0d0e474fcb>:21: DataConversionWarning: A column-vector y was passed when a 1d array was expected. Please change the shape of y to (n_samples,), for example using ravel().\n",
      "  rfc2.fit(X_train, y_train)\n"
     ]
    },
    {
     "name": "stdout",
     "output_type": "stream",
     "text": [
      "Model accuracy score with 200 decision-trees : 0.9685\n"
     ]
    }
   ],
   "source": [
    "#Train random forest with default parameters:-\n",
    "#import Random Forest classifier\n",
    "from sklearn.ensemble import RandomForestClassifier\n",
    "\n",
    "# instantiate the classifier\n",
    "rfc1= RandomForestClassifier(random_state=0)\n",
    "\n",
    "# fit the model\n",
    "rfc1.fit(X_train, y_train)\n",
    "\n",
    "# Predict the Test set results\n",
    "y_pred = rfc1.predict(X_test)\n",
    "print(y_pred)\n",
    "# Check accuracy score\n",
    "from sklearn.metrics import accuracy_score\n",
    "print('Model accuracy score with 10 decision-trees : {0:0.4f}'. format(accuracy_score(y_test, y_pred)))\n",
    "\n",
    "#Train random forest with n_estimators=300 parameters:-\n",
    "from sklearn.ensemble import RandomForestClassifier\n",
    "rfc2 = RandomForestClassifier(n_estimators=300,random_state=0)\n",
    "rfc2.fit(X_train, y_train)\n",
    "y_pred = rfc2.predict(X_test)\n",
    "from sklearn.metrics import accuracy_score\n",
    "print('Model accuracy score with 200 decision-trees : {0:0.4f}'. format(accuracy_score(y_test, y_pred)))"
   ]
  },
  {
   "cell_type": "code",
   "execution_count": null,
   "id": "9a7c324e",
   "metadata": {},
   "outputs": [],
   "source": []
  }
 ],
 "metadata": {
  "kernelspec": {
   "display_name": "Python 3",
   "language": "python",
   "name": "python3"
  },
  "language_info": {
   "codemirror_mode": {
    "name": "ipython",
    "version": 3
   },
   "file_extension": ".py",
   "mimetype": "text/x-python",
   "name": "python",
   "nbconvert_exporter": "python",
   "pygments_lexer": "ipython3",
   "version": "3.8.8"
  }
 },
 "nbformat": 4,
 "nbformat_minor": 5
}
